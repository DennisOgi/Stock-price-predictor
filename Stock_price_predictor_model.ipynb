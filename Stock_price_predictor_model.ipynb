{
 "cells": [
  {
   "cell_type": "code",
   "execution_count": 112,
   "metadata": {},
   "outputs": [
    {
     "data": {
      "text/html": [
       "        <script type=\"text/javascript\">\n",
       "        window.PlotlyConfig = {MathJaxConfig: 'local'};\n",
       "        if (window.MathJax) {MathJax.Hub.Config({SVG: {font: \"STIX-Web\"}});}\n",
       "        if (typeof require !== 'undefined') {\n",
       "        require.undef(\"plotly\");\n",
       "        requirejs.config({\n",
       "            paths: {\n",
       "                'plotly': ['https://cdn.plot.ly/plotly-latest.min']\n",
       "            }\n",
       "        });\n",
       "        require(['plotly'], function(Plotly) {\n",
       "            window._Plotly = Plotly;\n",
       "        });\n",
       "        }\n",
       "        </script>\n",
       "        "
      ]
     },
     "metadata": {},
     "output_type": "display_data"
    }
   ],
   "source": [
    "# Importing libraries\n",
    "import pandas as pd\n",
    "import matplotlib.pyplot as plt\n",
    "import seaborn as sns\n",
    "import plotly.express as px\n",
    "import numpy as np\n",
    "from plotly.offline import iplot\n",
    "import plotly.figure_factory as ff\n",
    "from sklearn.linear_model import LinearRegression\n",
    "from sklearn.svm import SVR\n",
    "from sklearn.model_selection import train_test_split\n",
    "from sklearn.metrics import r2_score\n",
    "import plotly.offline as pyo\n",
    "pyo.init_notebook_mode(connected=True)\n",
    "%matplotlib inline\n",
    "sns.set()"
   ]
  },
  {
   "cell_type": "code",
   "execution_count": 113,
   "metadata": {},
   "outputs": [],
   "source": [
    "#Loading in da data\n",
    "stock_price = pd.read_csv('1.3 stock.csv')"
   ]
  },
  {
   "cell_type": "code",
   "execution_count": 114,
   "metadata": {},
   "outputs": [],
   "source": [
    "stock_volume = pd.read_csv('1.4 stock_volume.csv')"
   ]
  },
  {
   "cell_type": "code",
   "execution_count": 115,
   "metadata": {},
   "outputs": [
    {
     "data": {
      "text/html": [
       "<div>\n",
       "<style scoped>\n",
       "    .dataframe tbody tr th:only-of-type {\n",
       "        vertical-align: middle;\n",
       "    }\n",
       "\n",
       "    .dataframe tbody tr th {\n",
       "        vertical-align: top;\n",
       "    }\n",
       "\n",
       "    .dataframe thead th {\n",
       "        text-align: right;\n",
       "    }\n",
       "</style>\n",
       "<table border=\"1\" class=\"dataframe\">\n",
       "  <thead>\n",
       "    <tr style=\"text-align: right;\">\n",
       "      <th></th>\n",
       "      <th>Date</th>\n",
       "      <th>AAPL</th>\n",
       "      <th>BA</th>\n",
       "      <th>T</th>\n",
       "      <th>MGM</th>\n",
       "      <th>AMZN</th>\n",
       "      <th>IBM</th>\n",
       "      <th>TSLA</th>\n",
       "      <th>GOOG</th>\n",
       "      <th>sp500</th>\n",
       "    </tr>\n",
       "  </thead>\n",
       "  <tbody>\n",
       "    <tr>\n",
       "      <th>0</th>\n",
       "      <td>2012-01-12</td>\n",
       "      <td>60.198570</td>\n",
       "      <td>75.510002</td>\n",
       "      <td>30.120001</td>\n",
       "      <td>12.13</td>\n",
       "      <td>175.929993</td>\n",
       "      <td>180.550003</td>\n",
       "      <td>28.250000</td>\n",
       "      <td>313.644379</td>\n",
       "      <td>1295.500000</td>\n",
       "    </tr>\n",
       "    <tr>\n",
       "      <th>1</th>\n",
       "      <td>2012-01-13</td>\n",
       "      <td>59.972858</td>\n",
       "      <td>74.599998</td>\n",
       "      <td>30.070000</td>\n",
       "      <td>12.35</td>\n",
       "      <td>178.419998</td>\n",
       "      <td>179.160004</td>\n",
       "      <td>22.790001</td>\n",
       "      <td>311.328064</td>\n",
       "      <td>1289.089966</td>\n",
       "    </tr>\n",
       "    <tr>\n",
       "      <th>2</th>\n",
       "      <td>2012-01-17</td>\n",
       "      <td>60.671429</td>\n",
       "      <td>75.239998</td>\n",
       "      <td>30.250000</td>\n",
       "      <td>12.25</td>\n",
       "      <td>181.660004</td>\n",
       "      <td>180.000000</td>\n",
       "      <td>26.600000</td>\n",
       "      <td>313.116364</td>\n",
       "      <td>1293.670044</td>\n",
       "    </tr>\n",
       "    <tr>\n",
       "      <th>3</th>\n",
       "      <td>2012-01-18</td>\n",
       "      <td>61.301430</td>\n",
       "      <td>75.059998</td>\n",
       "      <td>30.330000</td>\n",
       "      <td>12.73</td>\n",
       "      <td>189.440002</td>\n",
       "      <td>181.070007</td>\n",
       "      <td>26.809999</td>\n",
       "      <td>315.273285</td>\n",
       "      <td>1308.040039</td>\n",
       "    </tr>\n",
       "    <tr>\n",
       "      <th>4</th>\n",
       "      <td>2012-01-19</td>\n",
       "      <td>61.107143</td>\n",
       "      <td>75.559998</td>\n",
       "      <td>30.420000</td>\n",
       "      <td>12.80</td>\n",
       "      <td>194.449997</td>\n",
       "      <td>180.520004</td>\n",
       "      <td>26.760000</td>\n",
       "      <td>318.590851</td>\n",
       "      <td>1314.500000</td>\n",
       "    </tr>\n",
       "  </tbody>\n",
       "</table>\n",
       "</div>"
      ],
      "text/plain": [
       "         Date       AAPL         BA          T    MGM        AMZN         IBM  \\\n",
       "0  2012-01-12  60.198570  75.510002  30.120001  12.13  175.929993  180.550003   \n",
       "1  2012-01-13  59.972858  74.599998  30.070000  12.35  178.419998  179.160004   \n",
       "2  2012-01-17  60.671429  75.239998  30.250000  12.25  181.660004  180.000000   \n",
       "3  2012-01-18  61.301430  75.059998  30.330000  12.73  189.440002  181.070007   \n",
       "4  2012-01-19  61.107143  75.559998  30.420000  12.80  194.449997  180.520004   \n",
       "\n",
       "        TSLA        GOOG        sp500  \n",
       "0  28.250000  313.644379  1295.500000  \n",
       "1  22.790001  311.328064  1289.089966  \n",
       "2  26.600000  313.116364  1293.670044  \n",
       "3  26.809999  315.273285  1308.040039  \n",
       "4  26.760000  318.590851  1314.500000  "
      ]
     },
     "execution_count": 115,
     "metadata": {},
     "output_type": "execute_result"
    }
   ],
   "source": [
    "stock_price.head()"
   ]
  },
  {
   "cell_type": "code",
   "execution_count": 116,
   "metadata": {},
   "outputs": [
    {
     "data": {
      "text/html": [
       "<div>\n",
       "<style scoped>\n",
       "    .dataframe tbody tr th:only-of-type {\n",
       "        vertical-align: middle;\n",
       "    }\n",
       "\n",
       "    .dataframe tbody tr th {\n",
       "        vertical-align: top;\n",
       "    }\n",
       "\n",
       "    .dataframe thead th {\n",
       "        text-align: right;\n",
       "    }\n",
       "</style>\n",
       "<table border=\"1\" class=\"dataframe\">\n",
       "  <thead>\n",
       "    <tr style=\"text-align: right;\">\n",
       "      <th></th>\n",
       "      <th>Date</th>\n",
       "      <th>AAPL</th>\n",
       "      <th>BA</th>\n",
       "      <th>T</th>\n",
       "      <th>MGM</th>\n",
       "      <th>AMZN</th>\n",
       "      <th>IBM</th>\n",
       "      <th>TSLA</th>\n",
       "      <th>GOOG</th>\n",
       "      <th>sp500</th>\n",
       "    </tr>\n",
       "  </thead>\n",
       "  <tbody>\n",
       "    <tr>\n",
       "      <th>0</th>\n",
       "      <td>2012-01-12</td>\n",
       "      <td>53146800</td>\n",
       "      <td>3934500</td>\n",
       "      <td>26511100</td>\n",
       "      <td>17891100</td>\n",
       "      <td>5385800</td>\n",
       "      <td>6881000</td>\n",
       "      <td>729300</td>\n",
       "      <td>3764400</td>\n",
       "      <td>4019890000</td>\n",
       "    </tr>\n",
       "    <tr>\n",
       "      <th>1</th>\n",
       "      <td>2012-01-13</td>\n",
       "      <td>56505400</td>\n",
       "      <td>4641100</td>\n",
       "      <td>22096800</td>\n",
       "      <td>16621800</td>\n",
       "      <td>4753500</td>\n",
       "      <td>5279200</td>\n",
       "      <td>5500400</td>\n",
       "      <td>4631800</td>\n",
       "      <td>3692370000</td>\n",
       "    </tr>\n",
       "    <tr>\n",
       "      <th>2</th>\n",
       "      <td>2012-01-17</td>\n",
       "      <td>60724300</td>\n",
       "      <td>3700100</td>\n",
       "      <td>23500200</td>\n",
       "      <td>15480800</td>\n",
       "      <td>5644500</td>\n",
       "      <td>6003400</td>\n",
       "      <td>4651600</td>\n",
       "      <td>3832800</td>\n",
       "      <td>4010490000</td>\n",
       "    </tr>\n",
       "    <tr>\n",
       "      <th>3</th>\n",
       "      <td>2012-01-18</td>\n",
       "      <td>69197800</td>\n",
       "      <td>4189500</td>\n",
       "      <td>22015000</td>\n",
       "      <td>18387600</td>\n",
       "      <td>7473500</td>\n",
       "      <td>4600600</td>\n",
       "      <td>1260200</td>\n",
       "      <td>5544000</td>\n",
       "      <td>4096160000</td>\n",
       "    </tr>\n",
       "    <tr>\n",
       "      <th>4</th>\n",
       "      <td>2012-01-19</td>\n",
       "      <td>65434600</td>\n",
       "      <td>5397300</td>\n",
       "      <td>25524000</td>\n",
       "      <td>14022900</td>\n",
       "      <td>7096000</td>\n",
       "      <td>8567200</td>\n",
       "      <td>1246300</td>\n",
       "      <td>12657800</td>\n",
       "      <td>4465890000</td>\n",
       "    </tr>\n",
       "  </tbody>\n",
       "</table>\n",
       "</div>"
      ],
      "text/plain": [
       "         Date      AAPL       BA         T       MGM     AMZN      IBM  \\\n",
       "0  2012-01-12  53146800  3934500  26511100  17891100  5385800  6881000   \n",
       "1  2012-01-13  56505400  4641100  22096800  16621800  4753500  5279200   \n",
       "2  2012-01-17  60724300  3700100  23500200  15480800  5644500  6003400   \n",
       "3  2012-01-18  69197800  4189500  22015000  18387600  7473500  4600600   \n",
       "4  2012-01-19  65434600  5397300  25524000  14022900  7096000  8567200   \n",
       "\n",
       "      TSLA      GOOG       sp500  \n",
       "0   729300   3764400  4019890000  \n",
       "1  5500400   4631800  3692370000  \n",
       "2  4651600   3832800  4010490000  \n",
       "3  1260200   5544000  4096160000  \n",
       "4  1246300  12657800  4465890000  "
      ]
     },
     "execution_count": 116,
     "metadata": {},
     "output_type": "execute_result"
    }
   ],
   "source": [
    "stock_volume.head()"
   ]
  },
  {
   "cell_type": "markdown",
   "metadata": {},
   "source": [
    "# Exploratory Data Analysis"
   ]
  },
  {
   "cell_type": "code",
   "execution_count": 117,
   "metadata": {},
   "outputs": [],
   "source": [
    "stock_price = stock_price.sort_values(by='Date')\n",
    "stock_volume = stock_volume.sort_values(by='Date')"
   ]
  },
  {
   "cell_type": "code",
   "execution_count": 118,
   "metadata": {},
   "outputs": [
    {
     "data": {
      "text/plain": [
       "Date     0\n",
       "AAPL     0\n",
       "BA       0\n",
       "T        0\n",
       "MGM      0\n",
       "AMZN     0\n",
       "IBM      0\n",
       "TSLA     0\n",
       "GOOG     0\n",
       "sp500    0\n",
       "dtype: int64"
      ]
     },
     "execution_count": 118,
     "metadata": {},
     "output_type": "execute_result"
    }
   ],
   "source": [
    "stock_price.isnull().sum()"
   ]
  },
  {
   "cell_type": "code",
   "execution_count": 119,
   "metadata": {},
   "outputs": [
    {
     "data": {
      "text/plain": [
       "Date     0\n",
       "AAPL     0\n",
       "BA       0\n",
       "T        0\n",
       "MGM      0\n",
       "AMZN     0\n",
       "IBM      0\n",
       "TSLA     0\n",
       "GOOG     0\n",
       "sp500    0\n",
       "dtype: int64"
      ]
     },
     "execution_count": 119,
     "metadata": {},
     "output_type": "execute_result"
    }
   ],
   "source": [
    "stock_volume.isnull().sum()"
   ]
  },
  {
   "cell_type": "code",
   "execution_count": 120,
   "metadata": {},
   "outputs": [
    {
     "data": {
      "text/html": [
       "<div>\n",
       "<style scoped>\n",
       "    .dataframe tbody tr th:only-of-type {\n",
       "        vertical-align: middle;\n",
       "    }\n",
       "\n",
       "    .dataframe tbody tr th {\n",
       "        vertical-align: top;\n",
       "    }\n",
       "\n",
       "    .dataframe thead th {\n",
       "        text-align: right;\n",
       "    }\n",
       "</style>\n",
       "<table border=\"1\" class=\"dataframe\">\n",
       "  <thead>\n",
       "    <tr style=\"text-align: right;\">\n",
       "      <th></th>\n",
       "      <th>AAPL</th>\n",
       "      <th>BA</th>\n",
       "      <th>T</th>\n",
       "      <th>MGM</th>\n",
       "      <th>AMZN</th>\n",
       "      <th>IBM</th>\n",
       "      <th>TSLA</th>\n",
       "      <th>GOOG</th>\n",
       "      <th>sp500</th>\n",
       "    </tr>\n",
       "  </thead>\n",
       "  <tbody>\n",
       "    <tr>\n",
       "      <th>count</th>\n",
       "      <td>2159.000000</td>\n",
       "      <td>2159.000000</td>\n",
       "      <td>2159.000000</td>\n",
       "      <td>2159.000000</td>\n",
       "      <td>2159.000000</td>\n",
       "      <td>2159.000000</td>\n",
       "      <td>2159.000000</td>\n",
       "      <td>2159.000000</td>\n",
       "      <td>2159.000000</td>\n",
       "    </tr>\n",
       "    <tr>\n",
       "      <th>mean</th>\n",
       "      <td>140.819823</td>\n",
       "      <td>189.942700</td>\n",
       "      <td>35.162899</td>\n",
       "      <td>23.105743</td>\n",
       "      <td>915.665665</td>\n",
       "      <td>161.853001</td>\n",
       "      <td>259.600815</td>\n",
       "      <td>783.712512</td>\n",
       "      <td>2218.749554</td>\n",
       "    </tr>\n",
       "    <tr>\n",
       "      <th>std</th>\n",
       "      <td>70.827601</td>\n",
       "      <td>103.678586</td>\n",
       "      <td>3.207490</td>\n",
       "      <td>6.963847</td>\n",
       "      <td>697.838905</td>\n",
       "      <td>25.561938</td>\n",
       "      <td>210.988003</td>\n",
       "      <td>334.448057</td>\n",
       "      <td>537.321727</td>\n",
       "    </tr>\n",
       "    <tr>\n",
       "      <th>min</th>\n",
       "      <td>55.790001</td>\n",
       "      <td>67.239998</td>\n",
       "      <td>26.770000</td>\n",
       "      <td>7.140000</td>\n",
       "      <td>175.929993</td>\n",
       "      <td>94.769997</td>\n",
       "      <td>22.790001</td>\n",
       "      <td>278.481171</td>\n",
       "      <td>1278.040039</td>\n",
       "    </tr>\n",
       "    <tr>\n",
       "      <th>25%</th>\n",
       "      <td>89.165714</td>\n",
       "      <td>124.015000</td>\n",
       "      <td>33.040001</td>\n",
       "      <td>18.545000</td>\n",
       "      <td>316.490005</td>\n",
       "      <td>142.769997</td>\n",
       "      <td>184.595001</td>\n",
       "      <td>527.214416</td>\n",
       "      <td>1847.984985</td>\n",
       "    </tr>\n",
       "    <tr>\n",
       "      <th>50%</th>\n",
       "      <td>116.599998</td>\n",
       "      <td>142.419998</td>\n",
       "      <td>34.930000</td>\n",
       "      <td>23.780001</td>\n",
       "      <td>676.010010</td>\n",
       "      <td>156.949997</td>\n",
       "      <td>231.960007</td>\n",
       "      <td>737.599976</td>\n",
       "      <td>2106.629883</td>\n",
       "    </tr>\n",
       "    <tr>\n",
       "      <th>75%</th>\n",
       "      <td>175.019997</td>\n",
       "      <td>297.044998</td>\n",
       "      <td>37.419998</td>\n",
       "      <td>28.430000</td>\n",
       "      <td>1593.645019</td>\n",
       "      <td>185.974998</td>\n",
       "      <td>307.350006</td>\n",
       "      <td>1079.744995</td>\n",
       "      <td>2705.810059</td>\n",
       "    </tr>\n",
       "    <tr>\n",
       "      <th>max</th>\n",
       "      <td>455.609985</td>\n",
       "      <td>440.619995</td>\n",
       "      <td>43.470001</td>\n",
       "      <td>38.029999</td>\n",
       "      <td>3225.000000</td>\n",
       "      <td>215.800003</td>\n",
       "      <td>1643.000000</td>\n",
       "      <td>1568.489990</td>\n",
       "      <td>3386.149902</td>\n",
       "    </tr>\n",
       "  </tbody>\n",
       "</table>\n",
       "</div>"
      ],
      "text/plain": [
       "              AAPL           BA            T          MGM         AMZN  \\\n",
       "count  2159.000000  2159.000000  2159.000000  2159.000000  2159.000000   \n",
       "mean    140.819823   189.942700    35.162899    23.105743   915.665665   \n",
       "std      70.827601   103.678586     3.207490     6.963847   697.838905   \n",
       "min      55.790001    67.239998    26.770000     7.140000   175.929993   \n",
       "25%      89.165714   124.015000    33.040001    18.545000   316.490005   \n",
       "50%     116.599998   142.419998    34.930000    23.780001   676.010010   \n",
       "75%     175.019997   297.044998    37.419998    28.430000  1593.645019   \n",
       "max     455.609985   440.619995    43.470001    38.029999  3225.000000   \n",
       "\n",
       "               IBM         TSLA         GOOG        sp500  \n",
       "count  2159.000000  2159.000000  2159.000000  2159.000000  \n",
       "mean    161.853001   259.600815   783.712512  2218.749554  \n",
       "std      25.561938   210.988003   334.448057   537.321727  \n",
       "min      94.769997    22.790001   278.481171  1278.040039  \n",
       "25%     142.769997   184.595001   527.214416  1847.984985  \n",
       "50%     156.949997   231.960007   737.599976  2106.629883  \n",
       "75%     185.974998   307.350006  1079.744995  2705.810059  \n",
       "max     215.800003  1643.000000  1568.489990  3386.149902  "
      ]
     },
     "execution_count": 120,
     "metadata": {},
     "output_type": "execute_result"
    }
   ],
   "source": [
    "stock_price.describe()"
   ]
  },
  {
   "cell_type": "code",
   "execution_count": 121,
   "metadata": {},
   "outputs": [
    {
     "data": {
      "text/html": [
       "<div>\n",
       "<style scoped>\n",
       "    .dataframe tbody tr th:only-of-type {\n",
       "        vertical-align: middle;\n",
       "    }\n",
       "\n",
       "    .dataframe tbody tr th {\n",
       "        vertical-align: top;\n",
       "    }\n",
       "\n",
       "    .dataframe thead th {\n",
       "        text-align: right;\n",
       "    }\n",
       "</style>\n",
       "<table border=\"1\" class=\"dataframe\">\n",
       "  <thead>\n",
       "    <tr style=\"text-align: right;\">\n",
       "      <th></th>\n",
       "      <th>AAPL</th>\n",
       "      <th>BA</th>\n",
       "      <th>T</th>\n",
       "      <th>MGM</th>\n",
       "      <th>AMZN</th>\n",
       "      <th>IBM</th>\n",
       "      <th>TSLA</th>\n",
       "      <th>GOOG</th>\n",
       "      <th>sp500</th>\n",
       "    </tr>\n",
       "  </thead>\n",
       "  <tbody>\n",
       "    <tr>\n",
       "      <th>count</th>\n",
       "      <td>2.159000e+03</td>\n",
       "      <td>2.159000e+03</td>\n",
       "      <td>2.159000e+03</td>\n",
       "      <td>2.159000e+03</td>\n",
       "      <td>2.159000e+03</td>\n",
       "      <td>2.159000e+03</td>\n",
       "      <td>2.159000e+03</td>\n",
       "      <td>2.159000e+03</td>\n",
       "      <td>2.159000e+03</td>\n",
       "    </tr>\n",
       "    <tr>\n",
       "      <th>mean</th>\n",
       "      <td>5.820332e+07</td>\n",
       "      <td>6.419916e+06</td>\n",
       "      <td>2.832131e+07</td>\n",
       "      <td>9.845582e+06</td>\n",
       "      <td>4.102673e+06</td>\n",
       "      <td>4.453090e+06</td>\n",
       "      <td>7.001302e+06</td>\n",
       "      <td>2.498238e+06</td>\n",
       "      <td>3.680732e+09</td>\n",
       "    </tr>\n",
       "    <tr>\n",
       "      <th>std</th>\n",
       "      <td>4.568141e+07</td>\n",
       "      <td>9.711873e+06</td>\n",
       "      <td>1.428911e+07</td>\n",
       "      <td>7.295753e+06</td>\n",
       "      <td>2.290722e+06</td>\n",
       "      <td>2.462811e+06</td>\n",
       "      <td>5.781208e+06</td>\n",
       "      <td>1.928407e+06</td>\n",
       "      <td>8.622717e+08</td>\n",
       "    </tr>\n",
       "    <tr>\n",
       "      <th>min</th>\n",
       "      <td>1.136200e+07</td>\n",
       "      <td>7.889000e+05</td>\n",
       "      <td>6.862400e+06</td>\n",
       "      <td>9.507000e+05</td>\n",
       "      <td>8.813000e+05</td>\n",
       "      <td>1.193000e+06</td>\n",
       "      <td>3.649000e+05</td>\n",
       "      <td>7.900000e+03</td>\n",
       "      <td>1.248960e+09</td>\n",
       "    </tr>\n",
       "    <tr>\n",
       "      <th>25%</th>\n",
       "      <td>2.769930e+07</td>\n",
       "      <td>3.031850e+06</td>\n",
       "      <td>2.002150e+07</td>\n",
       "      <td>5.796450e+06</td>\n",
       "      <td>2.675700e+06</td>\n",
       "      <td>3.111250e+06</td>\n",
       "      <td>3.433450e+06</td>\n",
       "      <td>1.325400e+06</td>\n",
       "      <td>3.211890e+09</td>\n",
       "    </tr>\n",
       "    <tr>\n",
       "      <th>50%</th>\n",
       "      <td>4.209420e+07</td>\n",
       "      <td>3.991000e+06</td>\n",
       "      <td>2.485930e+07</td>\n",
       "      <td>7.899800e+06</td>\n",
       "      <td>3.494800e+06</td>\n",
       "      <td>3.825000e+06</td>\n",
       "      <td>5.581100e+06</td>\n",
       "      <td>1.813900e+06</td>\n",
       "      <td>3.526890e+09</td>\n",
       "    </tr>\n",
       "    <tr>\n",
       "      <th>75%</th>\n",
       "      <td>7.182480e+07</td>\n",
       "      <td>5.325900e+06</td>\n",
       "      <td>3.210565e+07</td>\n",
       "      <td>1.104055e+07</td>\n",
       "      <td>4.768150e+06</td>\n",
       "      <td>4.937300e+06</td>\n",
       "      <td>8.619550e+06</td>\n",
       "      <td>3.245350e+06</td>\n",
       "      <td>3.933290e+09</td>\n",
       "    </tr>\n",
       "    <tr>\n",
       "      <th>max</th>\n",
       "      <td>3.765300e+08</td>\n",
       "      <td>1.032128e+08</td>\n",
       "      <td>1.950827e+08</td>\n",
       "      <td>9.009820e+07</td>\n",
       "      <td>2.385610e+07</td>\n",
       "      <td>3.049020e+07</td>\n",
       "      <td>6.093880e+07</td>\n",
       "      <td>2.497790e+07</td>\n",
       "      <td>9.044690e+09</td>\n",
       "    </tr>\n",
       "  </tbody>\n",
       "</table>\n",
       "</div>"
      ],
      "text/plain": [
       "               AAPL            BA             T           MGM          AMZN  \\\n",
       "count  2.159000e+03  2.159000e+03  2.159000e+03  2.159000e+03  2.159000e+03   \n",
       "mean   5.820332e+07  6.419916e+06  2.832131e+07  9.845582e+06  4.102673e+06   \n",
       "std    4.568141e+07  9.711873e+06  1.428911e+07  7.295753e+06  2.290722e+06   \n",
       "min    1.136200e+07  7.889000e+05  6.862400e+06  9.507000e+05  8.813000e+05   \n",
       "25%    2.769930e+07  3.031850e+06  2.002150e+07  5.796450e+06  2.675700e+06   \n",
       "50%    4.209420e+07  3.991000e+06  2.485930e+07  7.899800e+06  3.494800e+06   \n",
       "75%    7.182480e+07  5.325900e+06  3.210565e+07  1.104055e+07  4.768150e+06   \n",
       "max    3.765300e+08  1.032128e+08  1.950827e+08  9.009820e+07  2.385610e+07   \n",
       "\n",
       "                IBM          TSLA          GOOG         sp500  \n",
       "count  2.159000e+03  2.159000e+03  2.159000e+03  2.159000e+03  \n",
       "mean   4.453090e+06  7.001302e+06  2.498238e+06  3.680732e+09  \n",
       "std    2.462811e+06  5.781208e+06  1.928407e+06  8.622717e+08  \n",
       "min    1.193000e+06  3.649000e+05  7.900000e+03  1.248960e+09  \n",
       "25%    3.111250e+06  3.433450e+06  1.325400e+06  3.211890e+09  \n",
       "50%    3.825000e+06  5.581100e+06  1.813900e+06  3.526890e+09  \n",
       "75%    4.937300e+06  8.619550e+06  3.245350e+06  3.933290e+09  \n",
       "max    3.049020e+07  6.093880e+07  2.497790e+07  9.044690e+09  "
      ]
     },
     "execution_count": 121,
     "metadata": {},
     "output_type": "execute_result"
    }
   ],
   "source": [
    "stock_volume.describe()"
   ]
  },
  {
   "cell_type": "code",
   "execution_count": 122,
   "metadata": {},
   "outputs": [],
   "source": [
    "#SP500 is the most traded security in terms of volume"
   ]
  },
  {
   "cell_type": "code",
   "execution_count": null,
   "metadata": {},
   "outputs": [],
   "source": []
  },
  {
   "cell_type": "code",
   "execution_count": 124,
   "metadata": {},
   "outputs": [],
   "source": [
    "#Creating a function to plot interactive plots\n",
    "\n",
    "def interactive_plots(df, title):\n",
    "    fig = px.line(title = title)\n",
    "    \n",
    "    for i in df.columns[1:]:\n",
    "        fig.add_scatter(x = df['Date'], y = df[i], name = i)\n",
    "    plt.show()"
   ]
  },
  {
   "cell_type": "markdown",
   "metadata": {},
   "source": [
    "# Normalizing the data"
   ]
  },
  {
   "cell_type": "code",
   "execution_count": 123,
   "metadata": {},
   "outputs": [],
   "source": [
    "#Creating a function to normalize the data so that we are working within the same scale accross all stocks\n",
    "\n",
    "def normalize(df):\n",
    "    x = df.copy()\n",
    "    \n",
    "    for i in x.columns[1:]:\n",
    "        x[i] = x[i] / x[i][0]\n",
    "        \n",
    "    return x"
   ]
  },
  {
   "cell_type": "code",
   "execution_count": 125,
   "metadata": {},
   "outputs": [],
   "source": [
    "interactive_plots(stock_price, 'STOCK PRICES')"
   ]
  },
  {
   "cell_type": "code",
   "execution_count": 126,
   "metadata": {},
   "outputs": [],
   "source": [
    "interactive_plots(stock_volume, 'STOCK VOLUME')"
   ]
  },
  {
   "cell_type": "code",
   "execution_count": 127,
   "metadata": {},
   "outputs": [],
   "source": [
    "scaled_price = normalize(stock_price)"
   ]
  },
  {
   "cell_type": "code",
   "execution_count": 128,
   "metadata": {},
   "outputs": [
    {
     "data": {
      "text/html": [
       "<div>\n",
       "<style scoped>\n",
       "    .dataframe tbody tr th:only-of-type {\n",
       "        vertical-align: middle;\n",
       "    }\n",
       "\n",
       "    .dataframe tbody tr th {\n",
       "        vertical-align: top;\n",
       "    }\n",
       "\n",
       "    .dataframe thead th {\n",
       "        text-align: right;\n",
       "    }\n",
       "</style>\n",
       "<table border=\"1\" class=\"dataframe\">\n",
       "  <thead>\n",
       "    <tr style=\"text-align: right;\">\n",
       "      <th></th>\n",
       "      <th>Date</th>\n",
       "      <th>AAPL</th>\n",
       "      <th>BA</th>\n",
       "      <th>T</th>\n",
       "      <th>MGM</th>\n",
       "      <th>AMZN</th>\n",
       "      <th>IBM</th>\n",
       "      <th>TSLA</th>\n",
       "      <th>GOOG</th>\n",
       "      <th>sp500</th>\n",
       "    </tr>\n",
       "  </thead>\n",
       "  <tbody>\n",
       "    <tr>\n",
       "      <th>0</th>\n",
       "      <td>2012-01-12</td>\n",
       "      <td>1.000000</td>\n",
       "      <td>1.000000</td>\n",
       "      <td>1.000000</td>\n",
       "      <td>1.000000</td>\n",
       "      <td>1.000000</td>\n",
       "      <td>1.000000</td>\n",
       "      <td>1.000000</td>\n",
       "      <td>1.000000</td>\n",
       "      <td>1.000000</td>\n",
       "    </tr>\n",
       "    <tr>\n",
       "      <th>1</th>\n",
       "      <td>2012-01-13</td>\n",
       "      <td>0.996251</td>\n",
       "      <td>0.987949</td>\n",
       "      <td>0.998340</td>\n",
       "      <td>1.018137</td>\n",
       "      <td>1.014153</td>\n",
       "      <td>0.992301</td>\n",
       "      <td>0.806726</td>\n",
       "      <td>0.992615</td>\n",
       "      <td>0.995052</td>\n",
       "    </tr>\n",
       "    <tr>\n",
       "      <th>2</th>\n",
       "      <td>2012-01-17</td>\n",
       "      <td>1.007855</td>\n",
       "      <td>0.996424</td>\n",
       "      <td>1.004316</td>\n",
       "      <td>1.009893</td>\n",
       "      <td>1.032570</td>\n",
       "      <td>0.996954</td>\n",
       "      <td>0.941593</td>\n",
       "      <td>0.998317</td>\n",
       "      <td>0.998587</td>\n",
       "    </tr>\n",
       "    <tr>\n",
       "      <th>3</th>\n",
       "      <td>2012-01-18</td>\n",
       "      <td>1.018320</td>\n",
       "      <td>0.994040</td>\n",
       "      <td>1.006972</td>\n",
       "      <td>1.049464</td>\n",
       "      <td>1.076792</td>\n",
       "      <td>1.002880</td>\n",
       "      <td>0.949027</td>\n",
       "      <td>1.005193</td>\n",
       "      <td>1.009680</td>\n",
       "    </tr>\n",
       "    <tr>\n",
       "      <th>4</th>\n",
       "      <td>2012-01-19</td>\n",
       "      <td>1.015093</td>\n",
       "      <td>1.000662</td>\n",
       "      <td>1.009960</td>\n",
       "      <td>1.055235</td>\n",
       "      <td>1.105269</td>\n",
       "      <td>0.999834</td>\n",
       "      <td>0.947257</td>\n",
       "      <td>1.015771</td>\n",
       "      <td>1.014666</td>\n",
       "    </tr>\n",
       "    <tr>\n",
       "      <th>...</th>\n",
       "      <td>...</td>\n",
       "      <td>...</td>\n",
       "      <td>...</td>\n",
       "      <td>...</td>\n",
       "      <td>...</td>\n",
       "      <td>...</td>\n",
       "      <td>...</td>\n",
       "      <td>...</td>\n",
       "      <td>...</td>\n",
       "      <td>...</td>\n",
       "    </tr>\n",
       "    <tr>\n",
       "      <th>2154</th>\n",
       "      <td>2020-08-05</td>\n",
       "      <td>7.313297</td>\n",
       "      <td>2.308039</td>\n",
       "      <td>0.991036</td>\n",
       "      <td>1.378401</td>\n",
       "      <td>18.217644</td>\n",
       "      <td>0.694821</td>\n",
       "      <td>52.567080</td>\n",
       "      <td>4.698347</td>\n",
       "      <td>2.568715</td>\n",
       "    </tr>\n",
       "    <tr>\n",
       "      <th>2155</th>\n",
       "      <td>2020-08-06</td>\n",
       "      <td>7.568452</td>\n",
       "      <td>2.280493</td>\n",
       "      <td>0.990704</td>\n",
       "      <td>1.521847</td>\n",
       "      <td>18.331155</td>\n",
       "      <td>0.698532</td>\n",
       "      <td>52.728494</td>\n",
       "      <td>4.782805</td>\n",
       "      <td>2.585226</td>\n",
       "    </tr>\n",
       "    <tr>\n",
       "      <th>2156</th>\n",
       "      <td>2020-08-07</td>\n",
       "      <td>7.383066</td>\n",
       "      <td>2.251622</td>\n",
       "      <td>0.996680</td>\n",
       "      <td>1.568838</td>\n",
       "      <td>18.004093</td>\n",
       "      <td>0.692107</td>\n",
       "      <td>51.423361</td>\n",
       "      <td>4.764919</td>\n",
       "      <td>2.586862</td>\n",
       "    </tr>\n",
       "    <tr>\n",
       "      <th>2157</th>\n",
       "      <td>2020-08-10</td>\n",
       "      <td>7.490377</td>\n",
       "      <td>2.375977</td>\n",
       "      <td>1.002656</td>\n",
       "      <td>1.784831</td>\n",
       "      <td>17.894390</td>\n",
       "      <td>0.704016</td>\n",
       "      <td>50.214865</td>\n",
       "      <td>4.770052</td>\n",
       "      <td>2.593956</td>\n",
       "    </tr>\n",
       "    <tr>\n",
       "      <th>2158</th>\n",
       "      <td>2020-08-11</td>\n",
       "      <td>7.267614</td>\n",
       "      <td>2.385512</td>\n",
       "      <td>1.002656</td>\n",
       "      <td>1.772465</td>\n",
       "      <td>17.510772</td>\n",
       "      <td>0.702022</td>\n",
       "      <td>48.650974</td>\n",
       "      <td>4.719740</td>\n",
       "      <td>2.573284</td>\n",
       "    </tr>\n",
       "  </tbody>\n",
       "</table>\n",
       "<p>2159 rows × 10 columns</p>\n",
       "</div>"
      ],
      "text/plain": [
       "            Date      AAPL        BA         T       MGM       AMZN       IBM  \\\n",
       "0     2012-01-12  1.000000  1.000000  1.000000  1.000000   1.000000  1.000000   \n",
       "1     2012-01-13  0.996251  0.987949  0.998340  1.018137   1.014153  0.992301   \n",
       "2     2012-01-17  1.007855  0.996424  1.004316  1.009893   1.032570  0.996954   \n",
       "3     2012-01-18  1.018320  0.994040  1.006972  1.049464   1.076792  1.002880   \n",
       "4     2012-01-19  1.015093  1.000662  1.009960  1.055235   1.105269  0.999834   \n",
       "...          ...       ...       ...       ...       ...        ...       ...   \n",
       "2154  2020-08-05  7.313297  2.308039  0.991036  1.378401  18.217644  0.694821   \n",
       "2155  2020-08-06  7.568452  2.280493  0.990704  1.521847  18.331155  0.698532   \n",
       "2156  2020-08-07  7.383066  2.251622  0.996680  1.568838  18.004093  0.692107   \n",
       "2157  2020-08-10  7.490377  2.375977  1.002656  1.784831  17.894390  0.704016   \n",
       "2158  2020-08-11  7.267614  2.385512  1.002656  1.772465  17.510772  0.702022   \n",
       "\n",
       "           TSLA      GOOG     sp500  \n",
       "0      1.000000  1.000000  1.000000  \n",
       "1      0.806726  0.992615  0.995052  \n",
       "2      0.941593  0.998317  0.998587  \n",
       "3      0.949027  1.005193  1.009680  \n",
       "4      0.947257  1.015771  1.014666  \n",
       "...         ...       ...       ...  \n",
       "2154  52.567080  4.698347  2.568715  \n",
       "2155  52.728494  4.782805  2.585226  \n",
       "2156  51.423361  4.764919  2.586862  \n",
       "2157  50.214865  4.770052  2.593956  \n",
       "2158  48.650974  4.719740  2.573284  \n",
       "\n",
       "[2159 rows x 10 columns]"
      ]
     },
     "execution_count": 128,
     "metadata": {},
     "output_type": "execute_result"
    }
   ],
   "source": [
    "scaled_price"
   ]
  },
  {
   "cell_type": "code",
   "execution_count": 129,
   "metadata": {},
   "outputs": [],
   "source": [
    "scaled_volume = normalize(stock_volume)"
   ]
  },
  {
   "cell_type": "code",
   "execution_count": 130,
   "metadata": {},
   "outputs": [
    {
     "data": {
      "text/html": [
       "<div>\n",
       "<style scoped>\n",
       "    .dataframe tbody tr th:only-of-type {\n",
       "        vertical-align: middle;\n",
       "    }\n",
       "\n",
       "    .dataframe tbody tr th {\n",
       "        vertical-align: top;\n",
       "    }\n",
       "\n",
       "    .dataframe thead th {\n",
       "        text-align: right;\n",
       "    }\n",
       "</style>\n",
       "<table border=\"1\" class=\"dataframe\">\n",
       "  <thead>\n",
       "    <tr style=\"text-align: right;\">\n",
       "      <th></th>\n",
       "      <th>Date</th>\n",
       "      <th>AAPL</th>\n",
       "      <th>BA</th>\n",
       "      <th>T</th>\n",
       "      <th>MGM</th>\n",
       "      <th>AMZN</th>\n",
       "      <th>IBM</th>\n",
       "      <th>TSLA</th>\n",
       "      <th>GOOG</th>\n",
       "      <th>sp500</th>\n",
       "    </tr>\n",
       "  </thead>\n",
       "  <tbody>\n",
       "    <tr>\n",
       "      <th>0</th>\n",
       "      <td>2012-01-12</td>\n",
       "      <td>1.000000</td>\n",
       "      <td>1.000000</td>\n",
       "      <td>1.000000</td>\n",
       "      <td>1.000000</td>\n",
       "      <td>1.000000</td>\n",
       "      <td>1.000000</td>\n",
       "      <td>1.000000</td>\n",
       "      <td>1.000000</td>\n",
       "      <td>1.000000</td>\n",
       "    </tr>\n",
       "    <tr>\n",
       "      <th>1</th>\n",
       "      <td>2012-01-13</td>\n",
       "      <td>1.063195</td>\n",
       "      <td>1.179591</td>\n",
       "      <td>0.833492</td>\n",
       "      <td>0.929054</td>\n",
       "      <td>0.882599</td>\n",
       "      <td>0.767214</td>\n",
       "      <td>7.542027</td>\n",
       "      <td>1.230422</td>\n",
       "      <td>0.918525</td>\n",
       "    </tr>\n",
       "    <tr>\n",
       "      <th>2</th>\n",
       "      <td>2012-01-17</td>\n",
       "      <td>1.142577</td>\n",
       "      <td>0.940424</td>\n",
       "      <td>0.886429</td>\n",
       "      <td>0.865279</td>\n",
       "      <td>1.048034</td>\n",
       "      <td>0.872460</td>\n",
       "      <td>6.378171</td>\n",
       "      <td>1.018170</td>\n",
       "      <td>0.997662</td>\n",
       "    </tr>\n",
       "    <tr>\n",
       "      <th>3</th>\n",
       "      <td>2012-01-18</td>\n",
       "      <td>1.302013</td>\n",
       "      <td>1.064811</td>\n",
       "      <td>0.830407</td>\n",
       "      <td>1.027751</td>\n",
       "      <td>1.387630</td>\n",
       "      <td>0.668595</td>\n",
       "      <td>1.727958</td>\n",
       "      <td>1.472745</td>\n",
       "      <td>1.018973</td>\n",
       "    </tr>\n",
       "    <tr>\n",
       "      <th>4</th>\n",
       "      <td>2012-01-19</td>\n",
       "      <td>1.231205</td>\n",
       "      <td>1.371788</td>\n",
       "      <td>0.962767</td>\n",
       "      <td>0.783792</td>\n",
       "      <td>1.317539</td>\n",
       "      <td>1.245052</td>\n",
       "      <td>1.708899</td>\n",
       "      <td>3.362501</td>\n",
       "      <td>1.110948</td>\n",
       "    </tr>\n",
       "    <tr>\n",
       "      <th>...</th>\n",
       "      <td>...</td>\n",
       "      <td>...</td>\n",
       "      <td>...</td>\n",
       "      <td>...</td>\n",
       "      <td>...</td>\n",
       "      <td>...</td>\n",
       "      <td>...</td>\n",
       "      <td>...</td>\n",
       "      <td>...</td>\n",
       "      <td>...</td>\n",
       "    </tr>\n",
       "    <tr>\n",
       "      <th>2154</th>\n",
       "      <td>2020-08-05</td>\n",
       "      <td>0.573845</td>\n",
       "      <td>11.831491</td>\n",
       "      <td>0.867248</td>\n",
       "      <td>1.057185</td>\n",
       "      <td>0.729697</td>\n",
       "      <td>0.534137</td>\n",
       "      <td>6.825723</td>\n",
       "      <td>0.525847</td>\n",
       "      <td>1.177201</td>\n",
       "    </tr>\n",
       "    <tr>\n",
       "      <th>2155</th>\n",
       "      <td>2020-08-06</td>\n",
       "      <td>0.952215</td>\n",
       "      <td>8.367416</td>\n",
       "      <td>0.826397</td>\n",
       "      <td>2.004779</td>\n",
       "      <td>0.731665</td>\n",
       "      <td>0.496599</td>\n",
       "      <td>8.216509</td>\n",
       "      <td>0.530071</td>\n",
       "      <td>1.061594</td>\n",
       "    </tr>\n",
       "    <tr>\n",
       "      <th>2156</th>\n",
       "      <td>2020-08-07</td>\n",
       "      <td>0.930504</td>\n",
       "      <td>4.905731</td>\n",
       "      <td>1.146633</td>\n",
       "      <td>1.930027</td>\n",
       "      <td>0.729622</td>\n",
       "      <td>0.530591</td>\n",
       "      <td>12.180858</td>\n",
       "      <td>0.418818</td>\n",
       "      <td>1.021137</td>\n",
       "    </tr>\n",
       "    <tr>\n",
       "      <th>2157</th>\n",
       "      <td>2020-08-10</td>\n",
       "      <td>0.999136</td>\n",
       "      <td>9.113661</td>\n",
       "      <td>1.339605</td>\n",
       "      <td>3.980733</td>\n",
       "      <td>0.588083</td>\n",
       "      <td>0.576704</td>\n",
       "      <td>10.314411</td>\n",
       "      <td>0.342498</td>\n",
       "      <td>1.074301</td>\n",
       "    </tr>\n",
       "    <tr>\n",
       "      <th>2158</th>\n",
       "      <td>2020-08-11</td>\n",
       "      <td>0.881918</td>\n",
       "      <td>15.495463</td>\n",
       "      <td>1.168503</td>\n",
       "      <td>1.920391</td>\n",
       "      <td>0.688217</td>\n",
       "      <td>0.726421</td>\n",
       "      <td>11.457562</td>\n",
       "      <td>0.385719</td>\n",
       "      <td>1.265619</td>\n",
       "    </tr>\n",
       "  </tbody>\n",
       "</table>\n",
       "<p>2159 rows × 10 columns</p>\n",
       "</div>"
      ],
      "text/plain": [
       "            Date      AAPL         BA         T       MGM      AMZN       IBM  \\\n",
       "0     2012-01-12  1.000000   1.000000  1.000000  1.000000  1.000000  1.000000   \n",
       "1     2012-01-13  1.063195   1.179591  0.833492  0.929054  0.882599  0.767214   \n",
       "2     2012-01-17  1.142577   0.940424  0.886429  0.865279  1.048034  0.872460   \n",
       "3     2012-01-18  1.302013   1.064811  0.830407  1.027751  1.387630  0.668595   \n",
       "4     2012-01-19  1.231205   1.371788  0.962767  0.783792  1.317539  1.245052   \n",
       "...          ...       ...        ...       ...       ...       ...       ...   \n",
       "2154  2020-08-05  0.573845  11.831491  0.867248  1.057185  0.729697  0.534137   \n",
       "2155  2020-08-06  0.952215   8.367416  0.826397  2.004779  0.731665  0.496599   \n",
       "2156  2020-08-07  0.930504   4.905731  1.146633  1.930027  0.729622  0.530591   \n",
       "2157  2020-08-10  0.999136   9.113661  1.339605  3.980733  0.588083  0.576704   \n",
       "2158  2020-08-11  0.881918  15.495463  1.168503  1.920391  0.688217  0.726421   \n",
       "\n",
       "           TSLA      GOOG     sp500  \n",
       "0      1.000000  1.000000  1.000000  \n",
       "1      7.542027  1.230422  0.918525  \n",
       "2      6.378171  1.018170  0.997662  \n",
       "3      1.727958  1.472745  1.018973  \n",
       "4      1.708899  3.362501  1.110948  \n",
       "...         ...       ...       ...  \n",
       "2154   6.825723  0.525847  1.177201  \n",
       "2155   8.216509  0.530071  1.061594  \n",
       "2156  12.180858  0.418818  1.021137  \n",
       "2157  10.314411  0.342498  1.074301  \n",
       "2158  11.457562  0.385719  1.265619  \n",
       "\n",
       "[2159 rows x 10 columns]"
      ]
     },
     "execution_count": 130,
     "metadata": {},
     "output_type": "execute_result"
    }
   ],
   "source": [
    "scaled_volume"
   ]
  },
  {
   "cell_type": "markdown",
   "metadata": {},
   "source": [
    "# Creating stock price and volume dataframes for individual securites"
   ]
  },
  {
   "cell_type": "code",
   "execution_count": 131,
   "metadata": {},
   "outputs": [],
   "source": [
    "#Function to create a dataframe that consist of date, stock price and trading volume for individual stocks\n",
    "def individual_stock(price, volume, name):\n",
    "    return pd.DataFrame({'Date':stock_price['Date'], 'Close':stock_price[name], 'Volume':stock_volume[name]})"
   ]
  },
  {
   "cell_type": "code",
   "execution_count": 132,
   "metadata": {},
   "outputs": [],
   "source": [
    "def target_window(data):\n",
    "    n = 1\n",
    "    data['Target'] = data[['Close']].shift(-n)\n",
    "    return data"
   ]
  },
  {
   "cell_type": "code",
   "execution_count": 133,
   "metadata": {},
   "outputs": [],
   "source": [
    "stock_data = individual_stock(stock_price, stock_volume, 'AAPL')"
   ]
  },
  {
   "cell_type": "code",
   "execution_count": 134,
   "metadata": {},
   "outputs": [
    {
     "data": {
      "text/html": [
       "<div>\n",
       "<style scoped>\n",
       "    .dataframe tbody tr th:only-of-type {\n",
       "        vertical-align: middle;\n",
       "    }\n",
       "\n",
       "    .dataframe tbody tr th {\n",
       "        vertical-align: top;\n",
       "    }\n",
       "\n",
       "    .dataframe thead th {\n",
       "        text-align: right;\n",
       "    }\n",
       "</style>\n",
       "<table border=\"1\" class=\"dataframe\">\n",
       "  <thead>\n",
       "    <tr style=\"text-align: right;\">\n",
       "      <th></th>\n",
       "      <th>Date</th>\n",
       "      <th>Close</th>\n",
       "      <th>Volume</th>\n",
       "    </tr>\n",
       "  </thead>\n",
       "  <tbody>\n",
       "    <tr>\n",
       "      <th>0</th>\n",
       "      <td>2012-01-12</td>\n",
       "      <td>60.198570</td>\n",
       "      <td>53146800</td>\n",
       "    </tr>\n",
       "    <tr>\n",
       "      <th>1</th>\n",
       "      <td>2012-01-13</td>\n",
       "      <td>59.972858</td>\n",
       "      <td>56505400</td>\n",
       "    </tr>\n",
       "    <tr>\n",
       "      <th>2</th>\n",
       "      <td>2012-01-17</td>\n",
       "      <td>60.671429</td>\n",
       "      <td>60724300</td>\n",
       "    </tr>\n",
       "    <tr>\n",
       "      <th>3</th>\n",
       "      <td>2012-01-18</td>\n",
       "      <td>61.301430</td>\n",
       "      <td>69197800</td>\n",
       "    </tr>\n",
       "    <tr>\n",
       "      <th>4</th>\n",
       "      <td>2012-01-19</td>\n",
       "      <td>61.107143</td>\n",
       "      <td>65434600</td>\n",
       "    </tr>\n",
       "    <tr>\n",
       "      <th>...</th>\n",
       "      <td>...</td>\n",
       "      <td>...</td>\n",
       "      <td>...</td>\n",
       "    </tr>\n",
       "    <tr>\n",
       "      <th>2154</th>\n",
       "      <td>2020-08-05</td>\n",
       "      <td>440.250000</td>\n",
       "      <td>30498000</td>\n",
       "    </tr>\n",
       "    <tr>\n",
       "      <th>2155</th>\n",
       "      <td>2020-08-06</td>\n",
       "      <td>455.609985</td>\n",
       "      <td>50607200</td>\n",
       "    </tr>\n",
       "    <tr>\n",
       "      <th>2156</th>\n",
       "      <td>2020-08-07</td>\n",
       "      <td>444.450012</td>\n",
       "      <td>49453300</td>\n",
       "    </tr>\n",
       "    <tr>\n",
       "      <th>2157</th>\n",
       "      <td>2020-08-10</td>\n",
       "      <td>450.910004</td>\n",
       "      <td>53100900</td>\n",
       "    </tr>\n",
       "    <tr>\n",
       "      <th>2158</th>\n",
       "      <td>2020-08-11</td>\n",
       "      <td>437.500000</td>\n",
       "      <td>46871100</td>\n",
       "    </tr>\n",
       "  </tbody>\n",
       "</table>\n",
       "<p>2159 rows × 3 columns</p>\n",
       "</div>"
      ],
      "text/plain": [
       "            Date       Close    Volume\n",
       "0     2012-01-12   60.198570  53146800\n",
       "1     2012-01-13   59.972858  56505400\n",
       "2     2012-01-17   60.671429  60724300\n",
       "3     2012-01-18   61.301430  69197800\n",
       "4     2012-01-19   61.107143  65434600\n",
       "...          ...         ...       ...\n",
       "2154  2020-08-05  440.250000  30498000\n",
       "2155  2020-08-06  455.609985  50607200\n",
       "2156  2020-08-07  444.450012  49453300\n",
       "2157  2020-08-10  450.910004  53100900\n",
       "2158  2020-08-11  437.500000  46871100\n",
       "\n",
       "[2159 rows x 3 columns]"
      ]
     },
     "execution_count": 134,
     "metadata": {},
     "output_type": "execute_result"
    }
   ],
   "source": [
    "stock_data"
   ]
  },
  {
   "cell_type": "code",
   "execution_count": 135,
   "metadata": {},
   "outputs": [],
   "source": [
    "input_data = target_window(stock_data)"
   ]
  },
  {
   "cell_type": "code",
   "execution_count": 136,
   "metadata": {},
   "outputs": [],
   "source": [
    "input_data = input_data.dropna()"
   ]
  },
  {
   "cell_type": "code",
   "execution_count": 137,
   "metadata": {},
   "outputs": [
    {
     "data": {
      "text/html": [
       "<div>\n",
       "<style scoped>\n",
       "    .dataframe tbody tr th:only-of-type {\n",
       "        vertical-align: middle;\n",
       "    }\n",
       "\n",
       "    .dataframe tbody tr th {\n",
       "        vertical-align: top;\n",
       "    }\n",
       "\n",
       "    .dataframe thead th {\n",
       "        text-align: right;\n",
       "    }\n",
       "</style>\n",
       "<table border=\"1\" class=\"dataframe\">\n",
       "  <thead>\n",
       "    <tr style=\"text-align: right;\">\n",
       "      <th></th>\n",
       "      <th>Date</th>\n",
       "      <th>Close</th>\n",
       "      <th>Volume</th>\n",
       "      <th>Target</th>\n",
       "    </tr>\n",
       "  </thead>\n",
       "  <tbody>\n",
       "    <tr>\n",
       "      <th>0</th>\n",
       "      <td>2012-01-12</td>\n",
       "      <td>60.198570</td>\n",
       "      <td>53146800</td>\n",
       "      <td>59.972858</td>\n",
       "    </tr>\n",
       "    <tr>\n",
       "      <th>1</th>\n",
       "      <td>2012-01-13</td>\n",
       "      <td>59.972858</td>\n",
       "      <td>56505400</td>\n",
       "      <td>60.671429</td>\n",
       "    </tr>\n",
       "    <tr>\n",
       "      <th>2</th>\n",
       "      <td>2012-01-17</td>\n",
       "      <td>60.671429</td>\n",
       "      <td>60724300</td>\n",
       "      <td>61.301430</td>\n",
       "    </tr>\n",
       "    <tr>\n",
       "      <th>3</th>\n",
       "      <td>2012-01-18</td>\n",
       "      <td>61.301430</td>\n",
       "      <td>69197800</td>\n",
       "      <td>61.107143</td>\n",
       "    </tr>\n",
       "    <tr>\n",
       "      <th>4</th>\n",
       "      <td>2012-01-19</td>\n",
       "      <td>61.107143</td>\n",
       "      <td>65434600</td>\n",
       "      <td>60.042858</td>\n",
       "    </tr>\n",
       "  </tbody>\n",
       "</table>\n",
       "</div>"
      ],
      "text/plain": [
       "         Date      Close    Volume     Target\n",
       "0  2012-01-12  60.198570  53146800  59.972858\n",
       "1  2012-01-13  59.972858  56505400  60.671429\n",
       "2  2012-01-17  60.671429  60724300  61.301430\n",
       "3  2012-01-18  61.301430  69197800  61.107143\n",
       "4  2012-01-19  61.107143  65434600  60.042858"
      ]
     },
     "execution_count": 137,
     "metadata": {},
     "output_type": "execute_result"
    }
   ],
   "source": [
    "input_data.head()"
   ]
  },
  {
   "cell_type": "markdown",
   "metadata": {},
   "source": [
    "# Scaling the data"
   ]
  },
  {
   "cell_type": "code",
   "execution_count": 138,
   "metadata": {},
   "outputs": [],
   "source": [
    "from sklearn.preprocessing import MinMaxScaler"
   ]
  },
  {
   "cell_type": "code",
   "execution_count": 139,
   "metadata": {},
   "outputs": [],
   "source": [
    "scaler = MinMaxScaler()"
   ]
  },
  {
   "cell_type": "code",
   "execution_count": 140,
   "metadata": {},
   "outputs": [],
   "source": [
    "scaled_input = scaler.fit_transform(input_data.drop('Date', axis = 1))"
   ]
  },
  {
   "cell_type": "code",
   "execution_count": 141,
   "metadata": {},
   "outputs": [
    {
     "data": {
      "text/plain": [
       "array([[0.01102638, 0.11442624, 0.01046185],\n",
       "       [0.01046185, 0.12362365, 0.01220906],\n",
       "       [0.01220906, 0.13517696, 0.01378478],\n",
       "       ...,\n",
       "       [1.        , 0.10747163, 0.97208751],\n",
       "       [0.97208751, 0.10431171, 0.98824476],\n",
       "       [0.98824476, 0.11430054, 0.95470465]])"
      ]
     },
     "execution_count": 141,
     "metadata": {},
     "output_type": "execute_result"
    }
   ],
   "source": [
    "scaled_input"
   ]
  },
  {
   "cell_type": "code",
   "execution_count": 142,
   "metadata": {},
   "outputs": [],
   "source": [
    "x = scaled_input[:, :2]\n",
    "y = scaled_input[:, 2:]"
   ]
  },
  {
   "cell_type": "code",
   "execution_count": 143,
   "metadata": {},
   "outputs": [
    {
     "data": {
      "text/plain": [
       "array([[0.01102638, 0.11442624],\n",
       "       [0.01046185, 0.12362365],\n",
       "       [0.01220906, 0.13517696],\n",
       "       ...,\n",
       "       [1.        , 0.10747163],\n",
       "       [0.97208751, 0.10431171],\n",
       "       [0.98824476, 0.11430054]])"
      ]
     },
     "execution_count": 143,
     "metadata": {},
     "output_type": "execute_result"
    }
   ],
   "source": [
    "x"
   ]
  },
  {
   "cell_type": "code",
   "execution_count": 144,
   "metadata": {},
   "outputs": [
    {
     "data": {
      "text/plain": [
       "array([[0.01046185],\n",
       "       [0.01220906],\n",
       "       [0.01378478],\n",
       "       ...,\n",
       "       [0.97208751],\n",
       "       [0.98824476],\n",
       "       [0.95470465]])"
      ]
     },
     "execution_count": 144,
     "metadata": {},
     "output_type": "execute_result"
    }
   ],
   "source": [
    "y"
   ]
  },
  {
   "cell_type": "code",
   "execution_count": 145,
   "metadata": {},
   "outputs": [],
   "source": [
    "split = int(0.65 * len(x))"
   ]
  },
  {
   "cell_type": "markdown",
   "metadata": {},
   "source": [
    "# Spliting the data into training and testing sets"
   ]
  },
  {
   "cell_type": "code",
   "execution_count": 147,
   "metadata": {},
   "outputs": [],
   "source": [
    "x_train = x[:split]\n",
    "y_train = y[:split]"
   ]
  },
  {
   "cell_type": "code",
   "execution_count": 148,
   "metadata": {},
   "outputs": [],
   "source": [
    "x_test = x[split:]\n",
    "y_test = y[split:]"
   ]
  },
  {
   "cell_type": "code",
   "execution_count": 149,
   "metadata": {},
   "outputs": [
    {
     "data": {
      "text/plain": [
       "(1402, 2)"
      ]
     },
     "execution_count": 149,
     "metadata": {},
     "output_type": "execute_result"
    }
   ],
   "source": [
    "x_train.shape"
   ]
  },
  {
   "cell_type": "code",
   "execution_count": 150,
   "metadata": {},
   "outputs": [
    {
     "data": {
      "image/png": "[encoded data removed]",
      "text/plain": [
       "<Figure size 936x360 with 1 Axes>"
      ]
     },
     "metadata": {},
     "output_type": "display_data"
    },
    {
     "data": {
      "image/png": "[encoded data removed]",
      "text/plain": [
       "<Figure size 936x360 with 1 Axes>"
      ]
     },
     "metadata": {},
     "output_type": "display_data"
    }
   ],
   "source": [
    "def show_plot(data, title):\n",
    "    plt.figure(figsize = (13,5))\n",
    "    plt.plot(data, linewidth=3)\n",
    "    plt.title(title)\n",
    "    plt.grid()\n",
    "    \n",
    "show_plot(x_train, 'Training data')\n",
    "show_plot(x_test, 'Testing data')"
   ]
  },
  {
   "cell_type": "code",
   "execution_count": 151,
   "metadata": {},
   "outputs": [],
   "source": [
    "sp500_stock = individual_stock(stock_price, stock_volume, 'sp500')"
   ]
  },
  {
   "cell_type": "code",
   "execution_count": 152,
   "metadata": {},
   "outputs": [
    {
     "data": {
      "text/html": [
       "<div>\n",
       "<style scoped>\n",
       "    .dataframe tbody tr th:only-of-type {\n",
       "        vertical-align: middle;\n",
       "    }\n",
       "\n",
       "    .dataframe tbody tr th {\n",
       "        vertical-align: top;\n",
       "    }\n",
       "\n",
       "    .dataframe thead th {\n",
       "        text-align: right;\n",
       "    }\n",
       "</style>\n",
       "<table border=\"1\" class=\"dataframe\">\n",
       "  <thead>\n",
       "    <tr style=\"text-align: right;\">\n",
       "      <th></th>\n",
       "      <th>Date</th>\n",
       "      <th>Close</th>\n",
       "      <th>Volume</th>\n",
       "    </tr>\n",
       "  </thead>\n",
       "  <tbody>\n",
       "    <tr>\n",
       "      <th>0</th>\n",
       "      <td>2012-01-12</td>\n",
       "      <td>1295.500000</td>\n",
       "      <td>4019890000</td>\n",
       "    </tr>\n",
       "    <tr>\n",
       "      <th>1</th>\n",
       "      <td>2012-01-13</td>\n",
       "      <td>1289.089966</td>\n",
       "      <td>3692370000</td>\n",
       "    </tr>\n",
       "    <tr>\n",
       "      <th>2</th>\n",
       "      <td>2012-01-17</td>\n",
       "      <td>1293.670044</td>\n",
       "      <td>4010490000</td>\n",
       "    </tr>\n",
       "    <tr>\n",
       "      <th>3</th>\n",
       "      <td>2012-01-18</td>\n",
       "      <td>1308.040039</td>\n",
       "      <td>4096160000</td>\n",
       "    </tr>\n",
       "    <tr>\n",
       "      <th>4</th>\n",
       "      <td>2012-01-19</td>\n",
       "      <td>1314.500000</td>\n",
       "      <td>4465890000</td>\n",
       "    </tr>\n",
       "    <tr>\n",
       "      <th>...</th>\n",
       "      <td>...</td>\n",
       "      <td>...</td>\n",
       "      <td>...</td>\n",
       "    </tr>\n",
       "    <tr>\n",
       "      <th>2154</th>\n",
       "      <td>2020-08-05</td>\n",
       "      <td>3327.770020</td>\n",
       "      <td>4732220000</td>\n",
       "    </tr>\n",
       "    <tr>\n",
       "      <th>2155</th>\n",
       "      <td>2020-08-06</td>\n",
       "      <td>3349.159912</td>\n",
       "      <td>4267490000</td>\n",
       "    </tr>\n",
       "    <tr>\n",
       "      <th>2156</th>\n",
       "      <td>2020-08-07</td>\n",
       "      <td>3351.280029</td>\n",
       "      <td>4104860000</td>\n",
       "    </tr>\n",
       "    <tr>\n",
       "      <th>2157</th>\n",
       "      <td>2020-08-10</td>\n",
       "      <td>3360.469971</td>\n",
       "      <td>4318570000</td>\n",
       "    </tr>\n",
       "    <tr>\n",
       "      <th>2158</th>\n",
       "      <td>2020-08-11</td>\n",
       "      <td>3333.689941</td>\n",
       "      <td>5087650000</td>\n",
       "    </tr>\n",
       "  </tbody>\n",
       "</table>\n",
       "<p>2159 rows × 3 columns</p>\n",
       "</div>"
      ],
      "text/plain": [
       "            Date        Close      Volume\n",
       "0     2012-01-12  1295.500000  4019890000\n",
       "1     2012-01-13  1289.089966  3692370000\n",
       "2     2012-01-17  1293.670044  4010490000\n",
       "3     2012-01-18  1308.040039  4096160000\n",
       "4     2012-01-19  1314.500000  4465890000\n",
       "...          ...          ...         ...\n",
       "2154  2020-08-05  3327.770020  4732220000\n",
       "2155  2020-08-06  3349.159912  4267490000\n",
       "2156  2020-08-07  3351.280029  4104860000\n",
       "2157  2020-08-10  3360.469971  4318570000\n",
       "2158  2020-08-11  3333.689941  5087650000\n",
       "\n",
       "[2159 rows x 3 columns]"
      ]
     },
     "execution_count": 152,
     "metadata": {},
     "output_type": "execute_result"
    }
   ],
   "source": [
    "sp500_stock"
   ]
  },
  {
   "cell_type": "code",
   "execution_count": 153,
   "metadata": {},
   "outputs": [],
   "source": [
    "sp500 = target_window(sp500_stock)"
   ]
  },
  {
   "cell_type": "code",
   "execution_count": 154,
   "metadata": {},
   "outputs": [
    {
     "data": {
      "text/html": [
       "<div>\n",
       "<style scoped>\n",
       "    .dataframe tbody tr th:only-of-type {\n",
       "        vertical-align: middle;\n",
       "    }\n",
       "\n",
       "    .dataframe tbody tr th {\n",
       "        vertical-align: top;\n",
       "    }\n",
       "\n",
       "    .dataframe thead th {\n",
       "        text-align: right;\n",
       "    }\n",
       "</style>\n",
       "<table border=\"1\" class=\"dataframe\">\n",
       "  <thead>\n",
       "    <tr style=\"text-align: right;\">\n",
       "      <th></th>\n",
       "      <th>Date</th>\n",
       "      <th>Close</th>\n",
       "      <th>Volume</th>\n",
       "      <th>Target</th>\n",
       "    </tr>\n",
       "  </thead>\n",
       "  <tbody>\n",
       "    <tr>\n",
       "      <th>0</th>\n",
       "      <td>2012-01-12</td>\n",
       "      <td>1295.500000</td>\n",
       "      <td>4019890000</td>\n",
       "      <td>1289.089966</td>\n",
       "    </tr>\n",
       "    <tr>\n",
       "      <th>1</th>\n",
       "      <td>2012-01-13</td>\n",
       "      <td>1289.089966</td>\n",
       "      <td>3692370000</td>\n",
       "      <td>1293.670044</td>\n",
       "    </tr>\n",
       "    <tr>\n",
       "      <th>2</th>\n",
       "      <td>2012-01-17</td>\n",
       "      <td>1293.670044</td>\n",
       "      <td>4010490000</td>\n",
       "      <td>1308.040039</td>\n",
       "    </tr>\n",
       "    <tr>\n",
       "      <th>3</th>\n",
       "      <td>2012-01-18</td>\n",
       "      <td>1308.040039</td>\n",
       "      <td>4096160000</td>\n",
       "      <td>1314.500000</td>\n",
       "    </tr>\n",
       "    <tr>\n",
       "      <th>4</th>\n",
       "      <td>2012-01-19</td>\n",
       "      <td>1314.500000</td>\n",
       "      <td>4465890000</td>\n",
       "      <td>1315.380005</td>\n",
       "    </tr>\n",
       "    <tr>\n",
       "      <th>...</th>\n",
       "      <td>...</td>\n",
       "      <td>...</td>\n",
       "      <td>...</td>\n",
       "      <td>...</td>\n",
       "    </tr>\n",
       "    <tr>\n",
       "      <th>2154</th>\n",
       "      <td>2020-08-05</td>\n",
       "      <td>3327.770020</td>\n",
       "      <td>4732220000</td>\n",
       "      <td>3349.159912</td>\n",
       "    </tr>\n",
       "    <tr>\n",
       "      <th>2155</th>\n",
       "      <td>2020-08-06</td>\n",
       "      <td>3349.159912</td>\n",
       "      <td>4267490000</td>\n",
       "      <td>3351.280029</td>\n",
       "    </tr>\n",
       "    <tr>\n",
       "      <th>2156</th>\n",
       "      <td>2020-08-07</td>\n",
       "      <td>3351.280029</td>\n",
       "      <td>4104860000</td>\n",
       "      <td>3360.469971</td>\n",
       "    </tr>\n",
       "    <tr>\n",
       "      <th>2157</th>\n",
       "      <td>2020-08-10</td>\n",
       "      <td>3360.469971</td>\n",
       "      <td>4318570000</td>\n",
       "      <td>3333.689941</td>\n",
       "    </tr>\n",
       "    <tr>\n",
       "      <th>2158</th>\n",
       "      <td>2020-08-11</td>\n",
       "      <td>3333.689941</td>\n",
       "      <td>5087650000</td>\n",
       "      <td>NaN</td>\n",
       "    </tr>\n",
       "  </tbody>\n",
       "</table>\n",
       "<p>2159 rows × 4 columns</p>\n",
       "</div>"
      ],
      "text/plain": [
       "            Date        Close      Volume       Target\n",
       "0     2012-01-12  1295.500000  4019890000  1289.089966\n",
       "1     2012-01-13  1289.089966  3692370000  1293.670044\n",
       "2     2012-01-17  1293.670044  4010490000  1308.040039\n",
       "3     2012-01-18  1308.040039  4096160000  1314.500000\n",
       "4     2012-01-19  1314.500000  4465890000  1315.380005\n",
       "...          ...          ...         ...          ...\n",
       "2154  2020-08-05  3327.770020  4732220000  3349.159912\n",
       "2155  2020-08-06  3349.159912  4267490000  3351.280029\n",
       "2156  2020-08-07  3351.280029  4104860000  3360.469971\n",
       "2157  2020-08-10  3360.469971  4318570000  3333.689941\n",
       "2158  2020-08-11  3333.689941  5087650000          NaN\n",
       "\n",
       "[2159 rows x 4 columns]"
      ]
     },
     "execution_count": 154,
     "metadata": {},
     "output_type": "execute_result"
    }
   ],
   "source": [
    "sp500"
   ]
  },
  {
   "cell_type": "code",
   "execution_count": 155,
   "metadata": {},
   "outputs": [],
   "source": [
    "sp500_data = sp500.dropna()"
   ]
  },
  {
   "cell_type": "code",
   "execution_count": 156,
   "metadata": {},
   "outputs": [
    {
     "data": {
      "text/html": [
       "<div>\n",
       "<style scoped>\n",
       "    .dataframe tbody tr th:only-of-type {\n",
       "        vertical-align: middle;\n",
       "    }\n",
       "\n",
       "    .dataframe tbody tr th {\n",
       "        vertical-align: top;\n",
       "    }\n",
       "\n",
       "    .dataframe thead th {\n",
       "        text-align: right;\n",
       "    }\n",
       "</style>\n",
       "<table border=\"1\" class=\"dataframe\">\n",
       "  <thead>\n",
       "    <tr style=\"text-align: right;\">\n",
       "      <th></th>\n",
       "      <th>Date</th>\n",
       "      <th>Close</th>\n",
       "      <th>Volume</th>\n",
       "      <th>Target</th>\n",
       "    </tr>\n",
       "  </thead>\n",
       "  <tbody>\n",
       "    <tr>\n",
       "      <th>0</th>\n",
       "      <td>2012-01-12</td>\n",
       "      <td>1295.500000</td>\n",
       "      <td>4019890000</td>\n",
       "      <td>1289.089966</td>\n",
       "    </tr>\n",
       "    <tr>\n",
       "      <th>1</th>\n",
       "      <td>2012-01-13</td>\n",
       "      <td>1289.089966</td>\n",
       "      <td>3692370000</td>\n",
       "      <td>1293.670044</td>\n",
       "    </tr>\n",
       "    <tr>\n",
       "      <th>2</th>\n",
       "      <td>2012-01-17</td>\n",
       "      <td>1293.670044</td>\n",
       "      <td>4010490000</td>\n",
       "      <td>1308.040039</td>\n",
       "    </tr>\n",
       "    <tr>\n",
       "      <th>3</th>\n",
       "      <td>2012-01-18</td>\n",
       "      <td>1308.040039</td>\n",
       "      <td>4096160000</td>\n",
       "      <td>1314.500000</td>\n",
       "    </tr>\n",
       "    <tr>\n",
       "      <th>4</th>\n",
       "      <td>2012-01-19</td>\n",
       "      <td>1314.500000</td>\n",
       "      <td>4465890000</td>\n",
       "      <td>1315.380005</td>\n",
       "    </tr>\n",
       "    <tr>\n",
       "      <th>...</th>\n",
       "      <td>...</td>\n",
       "      <td>...</td>\n",
       "      <td>...</td>\n",
       "      <td>...</td>\n",
       "    </tr>\n",
       "    <tr>\n",
       "      <th>2153</th>\n",
       "      <td>2020-08-04</td>\n",
       "      <td>3306.510010</td>\n",
       "      <td>4621670000</td>\n",
       "      <td>3327.770020</td>\n",
       "    </tr>\n",
       "    <tr>\n",
       "      <th>2154</th>\n",
       "      <td>2020-08-05</td>\n",
       "      <td>3327.770020</td>\n",
       "      <td>4732220000</td>\n",
       "      <td>3349.159912</td>\n",
       "    </tr>\n",
       "    <tr>\n",
       "      <th>2155</th>\n",
       "      <td>2020-08-06</td>\n",
       "      <td>3349.159912</td>\n",
       "      <td>4267490000</td>\n",
       "      <td>3351.280029</td>\n",
       "    </tr>\n",
       "    <tr>\n",
       "      <th>2156</th>\n",
       "      <td>2020-08-07</td>\n",
       "      <td>3351.280029</td>\n",
       "      <td>4104860000</td>\n",
       "      <td>3360.469971</td>\n",
       "    </tr>\n",
       "    <tr>\n",
       "      <th>2157</th>\n",
       "      <td>2020-08-10</td>\n",
       "      <td>3360.469971</td>\n",
       "      <td>4318570000</td>\n",
       "      <td>3333.689941</td>\n",
       "    </tr>\n",
       "  </tbody>\n",
       "</table>\n",
       "<p>2158 rows × 4 columns</p>\n",
       "</div>"
      ],
      "text/plain": [
       "            Date        Close      Volume       Target\n",
       "0     2012-01-12  1295.500000  4019890000  1289.089966\n",
       "1     2012-01-13  1289.089966  3692370000  1293.670044\n",
       "2     2012-01-17  1293.670044  4010490000  1308.040039\n",
       "3     2012-01-18  1308.040039  4096160000  1314.500000\n",
       "4     2012-01-19  1314.500000  4465890000  1315.380005\n",
       "...          ...          ...         ...          ...\n",
       "2153  2020-08-04  3306.510010  4621670000  3327.770020\n",
       "2154  2020-08-05  3327.770020  4732220000  3349.159912\n",
       "2155  2020-08-06  3349.159912  4267490000  3351.280029\n",
       "2156  2020-08-07  3351.280029  4104860000  3360.469971\n",
       "2157  2020-08-10  3360.469971  4318570000  3333.689941\n",
       "\n",
       "[2158 rows x 4 columns]"
      ]
     },
     "execution_count": 156,
     "metadata": {},
     "output_type": "execute_result"
    }
   ],
   "source": [
    "sp500_data"
   ]
  },
  {
   "cell_type": "code",
   "execution_count": 157,
   "metadata": {},
   "outputs": [],
   "source": [
    "scaled_sp = scaler.fit_transform(sp500_data.drop('Date', axis=1))"
   ]
  },
  {
   "cell_type": "code",
   "execution_count": 158,
   "metadata": {},
   "outputs": [
    {
     "data": {
      "text/plain": [
       "array([[0.00828228, 0.35544202, 0.00524163],\n",
       "       [0.00524163, 0.31342927, 0.00741423],\n",
       "       [0.00741423, 0.35423623, 0.01423076],\n",
       "       ...,\n",
       "       [0.98245348, 0.38720299, 0.98345918],\n",
       "       [0.98345918, 0.36634157, 0.9878185 ],\n",
       "       [0.9878185 , 0.3937553 , 0.97511517]])"
      ]
     },
     "execution_count": 158,
     "metadata": {},
     "output_type": "execute_result"
    }
   ],
   "source": [
    "scaled_sp"
   ]
  },
  {
   "cell_type": "code",
   "execution_count": 159,
   "metadata": {},
   "outputs": [],
   "source": [
    "x_sp = scaled_sp[:, :2]\n",
    "y_sp = scaled_sp[:, 2:]"
   ]
  },
  {
   "cell_type": "code",
   "execution_count": 160,
   "metadata": {},
   "outputs": [],
   "source": [
    "x_train_sp = x_sp[:split]\n",
    "y_train_sp = y_sp[:split]"
   ]
  },
  {
   "cell_type": "code",
   "execution_count": 161,
   "metadata": {},
   "outputs": [],
   "source": [
    "x_test_sp = x_sp[split:]\n",
    "y_test_sp = y_sp[split:]"
   ]
  },
  {
   "cell_type": "code",
   "execution_count": 162,
   "metadata": {},
   "outputs": [
    {
     "data": {
      "image/png": "[encoded data removed]",
      "text/plain": [
       "<Figure size 936x360 with 1 Axes>"
      ]
     },
     "metadata": {},
     "output_type": "display_data"
    },
    {
     "data": {
      "image/png": "[encoded data removed]",
      "text/plain": [
       "<Figure size 936x360 with 1 Axes>"
      ]
     },
     "metadata": {},
     "output_type": "display_data"
    }
   ],
   "source": [
    "show_plot(x_train_sp, 'Training data')\n",
    "show_plot(x_test_sp, 'Testing data')"
   ]
  },
  {
   "cell_type": "code",
   "execution_count": 163,
   "metadata": {},
   "outputs": [],
   "source": [
    "AMZN_stock = individual_stock(stock_price, stock_volume, 'AMZN')"
   ]
  },
  {
   "cell_type": "code",
   "execution_count": 164,
   "metadata": {},
   "outputs": [],
   "source": [
    "AMZN_data = target_window(AMZN_stock)"
   ]
  },
  {
   "cell_type": "code",
   "execution_count": 165,
   "metadata": {},
   "outputs": [
    {
     "data": {
      "text/html": [
       "<div>\n",
       "<style scoped>\n",
       "    .dataframe tbody tr th:only-of-type {\n",
       "        vertical-align: middle;\n",
       "    }\n",
       "\n",
       "    .dataframe tbody tr th {\n",
       "        vertical-align: top;\n",
       "    }\n",
       "\n",
       "    .dataframe thead th {\n",
       "        text-align: right;\n",
       "    }\n",
       "</style>\n",
       "<table border=\"1\" class=\"dataframe\">\n",
       "  <thead>\n",
       "    <tr style=\"text-align: right;\">\n",
       "      <th></th>\n",
       "      <th>Date</th>\n",
       "      <th>Close</th>\n",
       "      <th>Volume</th>\n",
       "      <th>Target</th>\n",
       "    </tr>\n",
       "  </thead>\n",
       "  <tbody>\n",
       "    <tr>\n",
       "      <th>0</th>\n",
       "      <td>2012-01-12</td>\n",
       "      <td>175.929993</td>\n",
       "      <td>5385800</td>\n",
       "      <td>178.419998</td>\n",
       "    </tr>\n",
       "    <tr>\n",
       "      <th>1</th>\n",
       "      <td>2012-01-13</td>\n",
       "      <td>178.419998</td>\n",
       "      <td>4753500</td>\n",
       "      <td>181.660004</td>\n",
       "    </tr>\n",
       "    <tr>\n",
       "      <th>2</th>\n",
       "      <td>2012-01-17</td>\n",
       "      <td>181.660004</td>\n",
       "      <td>5644500</td>\n",
       "      <td>189.440002</td>\n",
       "    </tr>\n",
       "    <tr>\n",
       "      <th>3</th>\n",
       "      <td>2012-01-18</td>\n",
       "      <td>189.440002</td>\n",
       "      <td>7473500</td>\n",
       "      <td>194.449997</td>\n",
       "    </tr>\n",
       "    <tr>\n",
       "      <th>4</th>\n",
       "      <td>2012-01-19</td>\n",
       "      <td>194.449997</td>\n",
       "      <td>7096000</td>\n",
       "      <td>190.929993</td>\n",
       "    </tr>\n",
       "    <tr>\n",
       "      <th>...</th>\n",
       "      <td>...</td>\n",
       "      <td>...</td>\n",
       "      <td>...</td>\n",
       "      <td>...</td>\n",
       "    </tr>\n",
       "    <tr>\n",
       "      <th>2154</th>\n",
       "      <td>2020-08-05</td>\n",
       "      <td>3205.030029</td>\n",
       "      <td>3930000</td>\n",
       "      <td>3225.000000</td>\n",
       "    </tr>\n",
       "    <tr>\n",
       "      <th>2155</th>\n",
       "      <td>2020-08-06</td>\n",
       "      <td>3225.000000</td>\n",
       "      <td>3940600</td>\n",
       "      <td>3167.459961</td>\n",
       "    </tr>\n",
       "    <tr>\n",
       "      <th>2156</th>\n",
       "      <td>2020-08-07</td>\n",
       "      <td>3167.459961</td>\n",
       "      <td>3929600</td>\n",
       "      <td>3148.159912</td>\n",
       "    </tr>\n",
       "    <tr>\n",
       "      <th>2157</th>\n",
       "      <td>2020-08-10</td>\n",
       "      <td>3148.159912</td>\n",
       "      <td>3167300</td>\n",
       "      <td>3080.669922</td>\n",
       "    </tr>\n",
       "    <tr>\n",
       "      <th>2158</th>\n",
       "      <td>2020-08-11</td>\n",
       "      <td>3080.669922</td>\n",
       "      <td>3706600</td>\n",
       "      <td>NaN</td>\n",
       "    </tr>\n",
       "  </tbody>\n",
       "</table>\n",
       "<p>2159 rows × 4 columns</p>\n",
       "</div>"
      ],
      "text/plain": [
       "            Date        Close   Volume       Target\n",
       "0     2012-01-12   175.929993  5385800   178.419998\n",
       "1     2012-01-13   178.419998  4753500   181.660004\n",
       "2     2012-01-17   181.660004  5644500   189.440002\n",
       "3     2012-01-18   189.440002  7473500   194.449997\n",
       "4     2012-01-19   194.449997  7096000   190.929993\n",
       "...          ...          ...      ...          ...\n",
       "2154  2020-08-05  3205.030029  3930000  3225.000000\n",
       "2155  2020-08-06  3225.000000  3940600  3167.459961\n",
       "2156  2020-08-07  3167.459961  3929600  3148.159912\n",
       "2157  2020-08-10  3148.159912  3167300  3080.669922\n",
       "2158  2020-08-11  3080.669922  3706600          NaN\n",
       "\n",
       "[2159 rows x 4 columns]"
      ]
     },
     "execution_count": 165,
     "metadata": {},
     "output_type": "execute_result"
    }
   ],
   "source": [
    "AMZN_data"
   ]
  },
  {
   "cell_type": "code",
   "execution_count": 166,
   "metadata": {},
   "outputs": [],
   "source": [
    "AMZN_data = AMZN_data.dropna()"
   ]
  },
  {
   "cell_type": "code",
   "execution_count": 167,
   "metadata": {},
   "outputs": [],
   "source": [
    "AMZN_scaled = scaler.fit_transform(AMZN_data.drop('Date', axis=1))"
   ]
  },
  {
   "cell_type": "code",
   "execution_count": 168,
   "metadata": {},
   "outputs": [
    {
     "data": {
      "text/plain": [
       "array([[0.00000000e+00, 1.96062643e-01, 0.00000000e+00],\n",
       "       [8.16644090e-04, 1.68541184e-01, 1.06348955e-03],\n",
       "       [1.87926515e-03, 2.07322806e-01, 3.61717204e-03],\n",
       "       ...,\n",
       "       [1.00000000e+00, 1.33158939e-01, 9.81113236e-01],\n",
       "       [9.81128659e-01, 1.32680154e-01, 9.74778247e-01],\n",
       "       [9.74798844e-01, 9.95003221e-02, 9.52625541e-01]])"
      ]
     },
     "execution_count": 168,
     "metadata": {},
     "output_type": "execute_result"
    }
   ],
   "source": [
    "AMZN_scaled"
   ]
  },
  {
   "cell_type": "code",
   "execution_count": 169,
   "metadata": {},
   "outputs": [],
   "source": [
    "x_AZ = AMZN_scaled[:, :2]\n",
    "y_AZ = AMZN_scaled[:, 2:]"
   ]
  },
  {
   "cell_type": "code",
   "execution_count": 170,
   "metadata": {},
   "outputs": [],
   "source": [
    "x_train_AZ = x_AZ[:split]\n",
    "y_train_AZ = y_AZ[:split]"
   ]
  },
  {
   "cell_type": "code",
   "execution_count": 171,
   "metadata": {},
   "outputs": [],
   "source": [
    "x_test_AZ = x_AZ[split:]\n",
    "y_test_AZ = y_AZ[split:]"
   ]
  },
  {
   "cell_type": "code",
   "execution_count": 172,
   "metadata": {},
   "outputs": [
    {
     "data": {
      "image/png": "[encoded data removed]",
      "text/plain": [
       "<Figure size 936x360 with 1 Axes>"
      ]
     },
     "metadata": {},
     "output_type": "display_data"
    },
    {
     "data": {
      "image/png": "[encoded data removed]",
      "text/plain": [
       "<Figure size 936x360 with 1 Axes>"
      ]
     },
     "metadata": {},
     "output_type": "display_data"
    }
   ],
   "source": [
    "show_plot(x_train_AZ, 'Training data')\n",
    "show_plot(x_test_AZ, 'Testing data')"
   ]
  },
  {
   "cell_type": "markdown",
   "metadata": {},
   "source": [
    "# Building and training the model"
   ]
  },
  {
   "cell_type": "code",
   "execution_count": 173,
   "metadata": {},
   "outputs": [],
   "source": [
    "from sklearn.linear_model import Ridge"
   ]
  },
  {
   "cell_type": "code",
   "execution_count": 174,
   "metadata": {},
   "outputs": [],
   "source": [
    "log = Ridge(alpha= 0.1)"
   ]
  },
  {
   "cell_type": "code",
   "execution_count": 175,
   "metadata": {},
   "outputs": [
    {
     "data": {
      "text/plain": [
       "Ridge(alpha=0.1, copy_X=True, fit_intercept=True, max_iter=None,\n",
       "      normalize=False, random_state=None, solver='auto', tol=0.001)"
      ]
     },
     "execution_count": 175,
     "metadata": {},
     "output_type": "execute_result"
    }
   ],
   "source": [
    "log.fit(x_train_AZ, y_train_AZ)"
   ]
  },
  {
   "cell_type": "markdown",
   "metadata": {},
   "source": [
    "# Accuracy_score"
   ]
  },
  {
   "cell_type": "code",
   "execution_count": 176,
   "metadata": {},
   "outputs": [],
   "source": [
    "accuracy= log.score(x_test_AZ, y_test_AZ)"
   ]
  },
  {
   "cell_type": "code",
   "execution_count": 177,
   "metadata": {},
   "outputs": [
    {
     "data": {
      "text/plain": [
       "0.9913809325120825"
      ]
     },
     "execution_count": 177,
     "metadata": {},
     "output_type": "execute_result"
    }
   ],
   "source": [
    "accuracy"
   ]
  },
  {
   "cell_type": "code",
   "execution_count": 178,
   "metadata": {},
   "outputs": [],
   "source": [
    "y_pred = log.predict(x_AZ)"
   ]
  },
  {
   "cell_type": "code",
   "execution_count": 179,
   "metadata": {},
   "outputs": [],
   "source": [
    "predicted = []\n",
    "\n",
    "for i in y_pred:\n",
    "    predicted.append(i[0])"
   ]
  },
  {
   "cell_type": "code",
   "execution_count": 180,
   "metadata": {},
   "outputs": [
    {
     "data": {
      "text/plain": [
       "2158"
      ]
     },
     "execution_count": 180,
     "metadata": {},
     "output_type": "execute_result"
    }
   ],
   "source": [
    "len(predicted)"
   ]
  },
  {
   "cell_type": "code",
   "execution_count": 181,
   "metadata": {},
   "outputs": [],
   "source": [
    "close = []\n",
    "\n",
    "for i in AMZN_scaled:\n",
    "    close.append(i[0])"
   ]
  },
  {
   "cell_type": "code",
   "execution_count": 182,
   "metadata": {},
   "outputs": [],
   "source": [
    "df_predicted = AMZN_data['Date']"
   ]
  },
  {
   "cell_type": "code",
   "execution_count": 183,
   "metadata": {},
   "outputs": [],
   "source": [
    "df_predicted = pd.DataFrame(df_predicted, columns=['Date'])"
   ]
  },
  {
   "cell_type": "code",
   "execution_count": 184,
   "metadata": {},
   "outputs": [
    {
     "data": {
      "text/html": [
       "<div>\n",
       "<style scoped>\n",
       "    .dataframe tbody tr th:only-of-type {\n",
       "        vertical-align: middle;\n",
       "    }\n",
       "\n",
       "    .dataframe tbody tr th {\n",
       "        vertical-align: top;\n",
       "    }\n",
       "\n",
       "    .dataframe thead th {\n",
       "        text-align: right;\n",
       "    }\n",
       "</style>\n",
       "<table border=\"1\" class=\"dataframe\">\n",
       "  <thead>\n",
       "    <tr style=\"text-align: right;\">\n",
       "      <th></th>\n",
       "      <th>Date</th>\n",
       "    </tr>\n",
       "  </thead>\n",
       "  <tbody>\n",
       "    <tr>\n",
       "      <th>0</th>\n",
       "      <td>2012-01-12</td>\n",
       "    </tr>\n",
       "    <tr>\n",
       "      <th>1</th>\n",
       "      <td>2012-01-13</td>\n",
       "    </tr>\n",
       "    <tr>\n",
       "      <th>2</th>\n",
       "      <td>2012-01-17</td>\n",
       "    </tr>\n",
       "    <tr>\n",
       "      <th>3</th>\n",
       "      <td>2012-01-18</td>\n",
       "    </tr>\n",
       "    <tr>\n",
       "      <th>4</th>\n",
       "      <td>2012-01-19</td>\n",
       "    </tr>\n",
       "    <tr>\n",
       "      <th>...</th>\n",
       "      <td>...</td>\n",
       "    </tr>\n",
       "    <tr>\n",
       "      <th>2153</th>\n",
       "      <td>2020-08-04</td>\n",
       "    </tr>\n",
       "    <tr>\n",
       "      <th>2154</th>\n",
       "      <td>2020-08-05</td>\n",
       "    </tr>\n",
       "    <tr>\n",
       "      <th>2155</th>\n",
       "      <td>2020-08-06</td>\n",
       "    </tr>\n",
       "    <tr>\n",
       "      <th>2156</th>\n",
       "      <td>2020-08-07</td>\n",
       "    </tr>\n",
       "    <tr>\n",
       "      <th>2157</th>\n",
       "      <td>2020-08-10</td>\n",
       "    </tr>\n",
       "  </tbody>\n",
       "</table>\n",
       "<p>2158 rows × 1 columns</p>\n",
       "</div>"
      ],
      "text/plain": [
       "            Date\n",
       "0     2012-01-12\n",
       "1     2012-01-13\n",
       "2     2012-01-17\n",
       "3     2012-01-18\n",
       "4     2012-01-19\n",
       "...          ...\n",
       "2153  2020-08-04\n",
       "2154  2020-08-05\n",
       "2155  2020-08-06\n",
       "2156  2020-08-07\n",
       "2157  2020-08-10\n",
       "\n",
       "[2158 rows x 1 columns]"
      ]
     },
     "execution_count": 184,
     "metadata": {},
     "output_type": "execute_result"
    }
   ],
   "source": [
    "df_predicted"
   ]
  },
  {
   "cell_type": "code",
   "execution_count": 185,
   "metadata": {},
   "outputs": [],
   "source": [
    "df_predicted['Close'] = close"
   ]
  },
  {
   "cell_type": "code",
   "execution_count": 186,
   "metadata": {},
   "outputs": [
    {
     "data": {
      "text/html": [
       "<div>\n",
       "<style scoped>\n",
       "    .dataframe tbody tr th:only-of-type {\n",
       "        vertical-align: middle;\n",
       "    }\n",
       "\n",
       "    .dataframe tbody tr th {\n",
       "        vertical-align: top;\n",
       "    }\n",
       "\n",
       "    .dataframe thead th {\n",
       "        text-align: right;\n",
       "    }\n",
       "</style>\n",
       "<table border=\"1\" class=\"dataframe\">\n",
       "  <thead>\n",
       "    <tr style=\"text-align: right;\">\n",
       "      <th></th>\n",
       "      <th>Date</th>\n",
       "      <th>Close</th>\n",
       "    </tr>\n",
       "  </thead>\n",
       "  <tbody>\n",
       "    <tr>\n",
       "      <th>0</th>\n",
       "      <td>2012-01-12</td>\n",
       "      <td>0.000000</td>\n",
       "    </tr>\n",
       "    <tr>\n",
       "      <th>1</th>\n",
       "      <td>2012-01-13</td>\n",
       "      <td>0.000817</td>\n",
       "    </tr>\n",
       "    <tr>\n",
       "      <th>2</th>\n",
       "      <td>2012-01-17</td>\n",
       "      <td>0.001879</td>\n",
       "    </tr>\n",
       "    <tr>\n",
       "      <th>3</th>\n",
       "      <td>2012-01-18</td>\n",
       "      <td>0.004431</td>\n",
       "    </tr>\n",
       "    <tr>\n",
       "      <th>4</th>\n",
       "      <td>2012-01-19</td>\n",
       "      <td>0.006074</td>\n",
       "    </tr>\n",
       "    <tr>\n",
       "      <th>...</th>\n",
       "      <td>...</td>\n",
       "      <td>...</td>\n",
       "    </tr>\n",
       "    <tr>\n",
       "      <th>2153</th>\n",
       "      <td>2020-08-04</td>\n",
       "      <td>0.971739</td>\n",
       "    </tr>\n",
       "    <tr>\n",
       "      <th>2154</th>\n",
       "      <td>2020-08-05</td>\n",
       "      <td>0.993450</td>\n",
       "    </tr>\n",
       "    <tr>\n",
       "      <th>2155</th>\n",
       "      <td>2020-08-06</td>\n",
       "      <td>1.000000</td>\n",
       "    </tr>\n",
       "    <tr>\n",
       "      <th>2156</th>\n",
       "      <td>2020-08-07</td>\n",
       "      <td>0.981129</td>\n",
       "    </tr>\n",
       "    <tr>\n",
       "      <th>2157</th>\n",
       "      <td>2020-08-10</td>\n",
       "      <td>0.974799</td>\n",
       "    </tr>\n",
       "  </tbody>\n",
       "</table>\n",
       "<p>2158 rows × 2 columns</p>\n",
       "</div>"
      ],
      "text/plain": [
       "            Date     Close\n",
       "0     2012-01-12  0.000000\n",
       "1     2012-01-13  0.000817\n",
       "2     2012-01-17  0.001879\n",
       "3     2012-01-18  0.004431\n",
       "4     2012-01-19  0.006074\n",
       "...          ...       ...\n",
       "2153  2020-08-04  0.971739\n",
       "2154  2020-08-05  0.993450\n",
       "2155  2020-08-06  1.000000\n",
       "2156  2020-08-07  0.981129\n",
       "2157  2020-08-10  0.974799\n",
       "\n",
       "[2158 rows x 2 columns]"
      ]
     },
     "execution_count": 186,
     "metadata": {},
     "output_type": "execute_result"
    }
   ],
   "source": [
    "df_predicted"
   ]
  },
  {
   "cell_type": "code",
   "execution_count": 187,
   "metadata": {},
   "outputs": [],
   "source": [
    "df_predicted['Predictions'] = predicted "
   ]
  },
  {
   "cell_type": "code",
   "execution_count": 188,
   "metadata": {},
   "outputs": [
    {
     "data": {
      "text/html": [
       "<div>\n",
       "<style scoped>\n",
       "    .dataframe tbody tr th:only-of-type {\n",
       "        vertical-align: middle;\n",
       "    }\n",
       "\n",
       "    .dataframe tbody tr th {\n",
       "        vertical-align: top;\n",
       "    }\n",
       "\n",
       "    .dataframe thead th {\n",
       "        text-align: right;\n",
       "    }\n",
       "</style>\n",
       "<table border=\"1\" class=\"dataframe\">\n",
       "  <thead>\n",
       "    <tr style=\"text-align: right;\">\n",
       "      <th></th>\n",
       "      <th>Date</th>\n",
       "      <th>Close</th>\n",
       "      <th>Predictions</th>\n",
       "    </tr>\n",
       "  </thead>\n",
       "  <tbody>\n",
       "    <tr>\n",
       "      <th>0</th>\n",
       "      <td>2012-01-12</td>\n",
       "      <td>0.000000</td>\n",
       "      <td>0.000370</td>\n",
       "    </tr>\n",
       "    <tr>\n",
       "      <th>1</th>\n",
       "      <td>2012-01-13</td>\n",
       "      <td>0.000817</td>\n",
       "      <td>0.001206</td>\n",
       "    </tr>\n",
       "    <tr>\n",
       "      <th>2</th>\n",
       "      <td>2012-01-17</td>\n",
       "      <td>0.001879</td>\n",
       "      <td>0.002219</td>\n",
       "    </tr>\n",
       "    <tr>\n",
       "      <th>3</th>\n",
       "      <td>2012-01-18</td>\n",
       "      <td>0.004431</td>\n",
       "      <td>0.004665</td>\n",
       "    </tr>\n",
       "    <tr>\n",
       "      <th>4</th>\n",
       "      <td>2012-01-19</td>\n",
       "      <td>0.006074</td>\n",
       "      <td>0.006307</td>\n",
       "    </tr>\n",
       "    <tr>\n",
       "      <th>...</th>\n",
       "      <td>...</td>\n",
       "      <td>...</td>\n",
       "      <td>...</td>\n",
       "    </tr>\n",
       "    <tr>\n",
       "      <th>2153</th>\n",
       "      <td>2020-08-04</td>\n",
       "      <td>0.971739</td>\n",
       "      <td>0.961878</td>\n",
       "    </tr>\n",
       "    <tr>\n",
       "      <th>2154</th>\n",
       "      <td>2020-08-05</td>\n",
       "      <td>0.993450</td>\n",
       "      <td>0.983393</td>\n",
       "    </tr>\n",
       "    <tr>\n",
       "      <th>2155</th>\n",
       "      <td>2020-08-06</td>\n",
       "      <td>1.000000</td>\n",
       "      <td>0.989873</td>\n",
       "    </tr>\n",
       "    <tr>\n",
       "      <th>2156</th>\n",
       "      <td>2020-08-07</td>\n",
       "      <td>0.981129</td>\n",
       "      <td>0.971201</td>\n",
       "    </tr>\n",
       "    <tr>\n",
       "      <th>2157</th>\n",
       "      <td>2020-08-10</td>\n",
       "      <td>0.974799</td>\n",
       "      <td>0.964971</td>\n",
       "    </tr>\n",
       "  </tbody>\n",
       "</table>\n",
       "<p>2158 rows × 3 columns</p>\n",
       "</div>"
      ],
      "text/plain": [
       "            Date     Close  Predictions\n",
       "0     2012-01-12  0.000000     0.000370\n",
       "1     2012-01-13  0.000817     0.001206\n",
       "2     2012-01-17  0.001879     0.002219\n",
       "3     2012-01-18  0.004431     0.004665\n",
       "4     2012-01-19  0.006074     0.006307\n",
       "...          ...       ...          ...\n",
       "2153  2020-08-04  0.971739     0.961878\n",
       "2154  2020-08-05  0.993450     0.983393\n",
       "2155  2020-08-06  1.000000     0.989873\n",
       "2156  2020-08-07  0.981129     0.971201\n",
       "2157  2020-08-10  0.974799     0.964971\n",
       "\n",
       "[2158 rows x 3 columns]"
      ]
     },
     "execution_count": 188,
     "metadata": {},
     "output_type": "execute_result"
    }
   ],
   "source": [
    "df_predicted"
   ]
  },
  {
   "cell_type": "code",
   "execution_count": 190,
   "metadata": {},
   "outputs": [],
   "source": [
    "interactive_plots(df_predicted, 'Original vs Predictions')"
   ]
  },
  {
   "cell_type": "code",
   "execution_count": null,
   "metadata": {},
   "outputs": [],
   "source": []
  },
  {
   "cell_type": "code",
   "execution_count": null,
   "metadata": {},
   "outputs": [],
   "source": []
  }
 ],
 "metadata": {
  "kernelspec": {
   "display_name": "Python 3",
   "language": "python",
   "name": "python3"
  },
  "language_info": {
   "codemirror_mode": {
    "name": "ipython",
    "version": 3
   },
   "file_extension": ".py",
   "mimetype": "text/x-python",
   "name": "python",
   "nbconvert_exporter": "python",
   "pygments_lexer": "ipython3",
   "version": "3.7.6"
  }
 },
 "nbformat": 4,
 "nbformat_minor": 4
}
